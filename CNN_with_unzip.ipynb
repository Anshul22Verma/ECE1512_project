{
  "nbformat": 4,
  "nbformat_minor": 0,
  "metadata": {
    "colab": {
      "name": "CNN_with_unzip.ipynb",
      "provenance": [],
      "collapsed_sections": []
    },
    "kernelspec": {
      "name": "python3",
      "display_name": "Python 3"
    },
    "accelerator": "GPU"
  },
  "cells": [
    {
      "cell_type": "code",
      "metadata": {
        "id": "08M4lfqQtcRW",
        "colab_type": "code",
        "outputId": "3e4ad4c0-6580-4bf9-d073-231b7e587b28",
        "colab": {
          "base_uri": "https://localhost:8080/",
          "height": 122
        }
      },
      "source": [
        "from google.colab import drive\n",
        "drive.mount('/content/drive')"
      ],
      "execution_count": 0,
      "outputs": [
        {
          "output_type": "stream",
          "text": [
            "Go to this URL in a browser: https://accounts.google.com/o/oauth2/auth?client_id=947318989803-6bn6qk8qdgf4n4g3pfee6491hc0brc4i.apps.googleusercontent.com&redirect_uri=urn%3aietf%3awg%3aoauth%3a2.0%3aoob&response_type=code&scope=email%20https%3a%2f%2fwww.googleapis.com%2fauth%2fdocs.test%20https%3a%2f%2fwww.googleapis.com%2fauth%2fdrive%20https%3a%2f%2fwww.googleapis.com%2fauth%2fdrive.photos.readonly%20https%3a%2f%2fwww.googleapis.com%2fauth%2fpeopleapi.readonly\n",
            "\n",
            "Enter your authorization code:\n",
            "··········\n",
            "Mounted at /content/drive\n"
          ],
          "name": "stdout"
        }
      ]
    },
    {
      "cell_type": "code",
      "metadata": {
        "id": "kEQ1NKs7t1E1",
        "colab_type": "code",
        "outputId": "b92da94c-23b0-49a6-a5c0-f33ea36ae925",
        "colab": {
          "base_uri": "https://localhost:8080/",
          "height": 34
        }
      },
      "source": [
        "#to be done once only \n",
        "!unzip -q \"/content/drive/My Drive/ECE1512_project/hand_written/char.zip\" -d \"/content/drive/My Drive/ECE1512_project/hand_written/char\""
      ],
      "execution_count": 0,
      "outputs": [
        {
          "output_type": "stream",
          "text": [
            "replace /content/drive/My Drive/ECE1512_project/hand_written/char/char/test/!/!_7731.jpg? [y]es, [n]o, [A]ll, [N]one, [r]ename: N\n"
          ],
          "name": "stdout"
        }
      ]
    },
    {
      "cell_type": "code",
      "metadata": {
        "id": "vhABNioWQsib",
        "colab_type": "code",
        "outputId": "1e8bbbee-96d4-4482-bff4-8037d4acb557",
        "colab": {
          "base_uri": "https://localhost:8080/",
          "height": 187
        }
      },
      "source": [
        "!ls \"/content/drive/My Drive/ECE1512_project/hand_written/char/char/train\""
      ],
      "execution_count": 0,
      "outputs": [
        {
          "output_type": "stream",
          "text": [
            "'='   +   9\t      div\t      H        leq   phi\t  sqrt\t  y\n",
            " -    0   A\t      e\t\t      i        lim   pi\t\t  sum\t  z\n",
            " ,    1   alpha       exists\t      in       log   pm\t\t  T\n",
            "'!'   2   ascii_124   f\t\t      infty    lt    prime\t  tan\n",
            "'('   3   b\t      forall\t      int      M     q\t\t  theta\n",
            "')'   4   beta\t      forward_slash   j        mu    R\t\t  times\n",
            "'['   5   C\t      G\t\t      k        N     rightarrow   u\n",
            " ]    6   cos\t      gamma\t      l        neq   S\t\t  v\n",
            "'{'   7   d\t      geq\t      lambda   o     sigma\t  w\n",
            "'}'   8   Delta       gt\t      ldots    p     sin\t  X\n"
          ],
          "name": "stdout"
        }
      ]
    },
    {
      "cell_type": "code",
      "metadata": {
        "id": "TIHFRUeLoiYb",
        "colab_type": "code",
        "outputId": "9cdad6b8-4bac-4049-f2e0-39c1a4ae6e0e",
        "colab": {
          "base_uri": "https://localhost:8080/",
          "height": 80
        }
      },
      "source": [
        "import tensorflow\n",
        "import keras\n",
        "\n",
        "from keras.layers import Conv2D, MaxPooling2D, Dense, Flatten, Dropout\n",
        "from keras.models import Sequential\n",
        "from keras.preprocessing.image import ImageDataGenerator\n",
        "\n",
        "import os\n",
        "\n",
        "import numpy as np\n",
        "import matplotlib.pyplot as plt"
      ],
      "execution_count": 0,
      "outputs": [
        {
          "output_type": "display_data",
          "data": {
            "text/html": [
              "<p style=\"color: red;\">\n",
              "The default version of TensorFlow in Colab will soon switch to TensorFlow 2.x.<br>\n",
              "We recommend you <a href=\"https://www.tensorflow.org/guide/migrate\" target=\"_blank\">upgrade</a> now \n",
              "or ensure your notebook will continue to use TensorFlow 1.x via the <code>%tensorflow_version 1.x</code> magic:\n",
              "<a href=\"https://colab.research.google.com/notebooks/tensorflow_version.ipynb\" target=\"_blank\">more info</a>.</p>\n"
            ],
            "text/plain": [
              "<IPython.core.display.HTML object>"
            ]
          },
          "metadata": {
            "tags": []
          }
        },
        {
          "output_type": "stream",
          "text": [
            "Using TensorFlow backend.\n"
          ],
          "name": "stderr"
        }
      ]
    },
    {
      "cell_type": "code",
      "metadata": {
        "id": "ElGM28Yvt1Jc",
        "colab_type": "code",
        "outputId": "1dae6050-01eb-4a3f-b620-adae5a4fbd45",
        "colab": {
          "base_uri": "https://localhost:8080/",
          "height": 54
        }
      },
      "source": [
        "root_dir = \"/content/drive/My Drive/ECE1512_project/hand_written/char/char/train\"\n",
        "SYMBOLS = os.listdir(root_dir)\n",
        "print([symbol for symbol in SYMBOLS])"
      ],
      "execution_count": 0,
      "outputs": [
        {
          "output_type": "stream",
          "text": [
            "['}', '{', '[', ']', 'lt', 'M', 'mu', 'N', 'neq', 'o', 'p', 'phi', 'pi', 'pm', 'prime', 'q', 'R', 'rightarrow', 'S', 'sigma', 'sin', 'sqrt', 'sum', 'T', 'tan', 'theta', 'times', 'u', 'v', 'w', 'X', 'y', 'z', '!', '(', ')', '+', ',', '-', '0', '1', '2', '3', '4', '5', '6', '7', '8', '9', '=', 'A', 'alpha', 'ascii_124', 'b', 'beta', 'C', 'cos', 'd', 'Delta', 'div', 'e', 'exists', 'f', 'forall', 'forward_slash', 'G', 'gamma', 'geq', 'gt', 'H', 'i', 'in', 'infty', 'int', 'j', 'k', 'l', 'lambda', 'ldots', 'leq', 'lim', 'log']\n"
          ],
          "name": "stdout"
        }
      ]
    },
    {
      "cell_type": "code",
      "metadata": {
        "id": "5OmYrxtWwv1D",
        "colab_type": "code",
        "colab": {}
      },
      "source": [
        "import glob\n",
        "from skimage import transform,io\n",
        "from skimage.filters import threshold_mean\n",
        "#Read in the data\n",
        "X_binary_image = [] \n",
        "Y_binary_image = []\n",
        "target_sz = (32, 32)"
      ],
      "execution_count": 0,
      "outputs": []
    },
    {
      "cell_type": "code",
      "metadata": {
        "id": "etrrvQ5I0c1B",
        "colab_type": "code",
        "colab": {}
      },
      "source": [
        "for i in range(19, len(SYMBOLS)):\n",
        "    print('Reading Data for {}-th Class'.format(i))\n",
        "    for a_img_path in glob.glob(os.path.join(root_dir, SYMBOLS[i]) + \"/*.jpg\"):\n",
        "        \n",
        "        # read\n",
        "        im = io.imread(a_img_path)\n",
        "        \n",
        "        # resize\n",
        "        im = transform.resize(im, target_sz, mode='symmetric', preserve_range=True)\n",
        "        \n",
        "        # threashold to convert it to binary\n",
        "        thresh = threshold_mean(im)\n",
        "        binary = im > thresh\n",
        "        \n",
        "        # binary conversion\n",
        "        binary[binary == True] = 1\n",
        "        binary[binary == False] = 0\n",
        "        \n",
        "        X_binary_image.append(binary)\n",
        "        Y_binary_image.append(i)"
      ],
      "execution_count": 0,
      "outputs": []
    },
    {
      "cell_type": "code",
      "metadata": {
        "id": "h-lzRMhHioPZ",
        "colab_type": "code",
        "colab": {}
      },
      "source": [
        "cls_counts = np.hstack(Y_binary_image)\n",
        "plt.hist(cls_count)\n",
        "plt.title('Class Weights')\n",
        "plt.xlabel('Class')\n",
        "plt.ylabel('Counts')\n",
        "plt.show()"
      ],
      "execution_count": 0,
      "outputs": []
    },
    {
      "cell_type": "code",
      "metadata": {
        "id": "GJgTYz59h2ym",
        "colab_type": "code",
        "colab": {}
      },
      "source": [
        "Y = keras.utils.to_categorical(Y_binary_image, len(SYMBOLS))"
      ],
      "execution_count": 0,
      "outputs": []
    },
    {
      "cell_type": "code",
      "metadata": {
        "id": "ixvRtR79Z9qe",
        "colab_type": "code",
        "colab": {}
      },
      "source": [
        "from sklearn.utils import shuffle\n",
        "from sklearn.model_selection import train_test_split\n",
        "\n",
        "X_binary_image = np.array(X_binary_image)\n",
        "Y_binary_image = np.array(Y_binary_image)\n",
        "X_binary_image = X_binary_image.reshape((len(X_binary_image),32, 32))\n",
        "\n",
        "X_train, X_val, y_train, y_val = train_test_split(X_binary_image, Y, test_size=0.30, random_state=46, shuffle=True, stratify=Y_binary_image)"
      ],
      "execution_count": 0,
      "outputs": []
    },
    {
      "cell_type": "code",
      "metadata": {
        "id": "7XZLAXQVczKs",
        "colab_type": "code",
        "colab": {}
      },
      "source": [
        "def plot_fitting(history):\n",
        "    loss_list = [s for s in history.history.keys() if 'loss' in s and 'val' not in s]\n",
        "    val_loss_list = [s for s in history.history.keys() if 'loss' in s and 'val' in s]\n",
        "    acc_list = [s for s in history.history.keys() if 'acc' in s and 'val' not in s]\n",
        "    val_acc_list = [s for s in history.history.keys() if 'acc' in s and 'val' in s]\n",
        "    \n",
        "    if len(loss_list) == 0:\n",
        "        print('Loss is missing in history')\n",
        "        return \n",
        "    \n",
        "    ## As loss always exists\n",
        "    epochs = range(1,len(history.history[loss_list[0]]) + 1)\n",
        "    \n",
        "    ## Loss\n",
        "    plt.figure(1)\n",
        "    for l in loss_list:\n",
        "        plt.plot(epochs, history.history[l], 'b', label='Training loss (' + str(str(format(history.history[l][-1],'.5f'))+')'))\n",
        "    for l in val_loss_list:\n",
        "        plt.plot(epochs, history.history[l], 'g', label='Validation loss (' + str(str(format(history.history[l][-1],'.5f'))+')'))\n",
        "    \n",
        "    plt.title('Loss')\n",
        "    plt.xlabel('Epochs')\n",
        "    plt.ylabel('Loss')\n",
        "    plt.legend()\n",
        "    \n",
        "    ## Accuracy\n",
        "    plt.figure(2)\n",
        "    for l in acc_list:\n",
        "        plt.plot(epochs, history.history[l], 'b', label='Training accuracy (' + str(format(history.history[l][-1],'.5f'))+')')\n",
        "    for l in val_acc_list:    \n",
        "        plt.plot(epochs, history.history[l], 'g', label='Validation accuracy (' + str(format(history.history[l][-1],'.5f'))+')')\n",
        "\n",
        "    plt.title('Accuracy')\n",
        "    plt.xlabel('Epochs')\n",
        "    plt.ylabel('Accuracy')\n",
        "    plt.legend()\n",
        "    plt.show()"
      ],
      "execution_count": 0,
      "outputs": []
    },
    {
      "cell_type": "code",
      "metadata": {
        "id": "kLnRqLyrb7NW",
        "colab_type": "code",
        "colab": {}
      },
      "source": [
        "from sklearn.utils.class_weight import compute_class_weight\n",
        "def get_class_weight(y):\n",
        "    \"\"\"\n",
        "\n",
        "    Used from: https://stackoverflow.com/a/50695814\n",
        "    TODO: check validity and 'balanced' option\n",
        "    :param y: A list of one-hot-encoding labels [[0,0,1,0],[0,0,0,1],..]\n",
        "    :return: class-weights to be used by keras model.fit(.. class_weight=\"\") -> {0:0.52134, 1:1.adas..}\n",
        "    \"\"\"\n",
        "    y_integers = np.argmax(y, axis=1)\n",
        "    class_weights = compute_class_weight('balanced', np.unique(y_integers), y_integers)\n",
        "    d_class_weights = dict(enumerate(class_weights))\n",
        "    return d_class_weights\n",
        "class_weights = get_class_weight(Y)"
      ],
      "execution_count": 0,
      "outputs": []
    },
    {
      "cell_type": "code",
      "metadata": {
        "id": "OWjP97P4iv3L",
        "colab_type": "code",
        "colab": {}
      },
      "source": [
        "#class_weights"
      ],
      "execution_count": 0,
      "outputs": []
    },
    {
      "cell_type": "code",
      "metadata": {
        "id": "187TptZNw_5O",
        "colab_type": "code",
        "outputId": "fd5f7364-0bc7-4549-8355-378ec6badbb4",
        "colab": {
          "base_uri": "https://localhost:8080/",
          "height": 785
        }
      },
      "source": [
        "#Defining the model \n",
        "drop_out_rate = 0.25\n",
        "#Layer-1\n",
        "model = Sequential()\n",
        "model.add(Conv2D(32, kernel_size = (5,5), padding='same', activation = 'relu', input_shape = (32, 32, 1)))\n",
        "model.add(MaxPooling2D(pool_size = (2,2)))\n",
        "model.add(Dropout(rate = drop_out_rate))\n",
        "\n",
        "#Layer-2\n",
        "model.add(Conv2D(64, kernel_size = (3,3), padding='same', activation = 'relu'))\n",
        "model.add(MaxPooling2D(pool_size = (2,2)))\n",
        "model.add(Dropout(rate = drop_out_rate))\n",
        "\n",
        "#Layer-3\n",
        "model.add(Conv2D(128, kernel_size = (3,3), padding='same', activation = 'relu'))\n",
        "model.add(MaxPooling2D(pool_size = (2,2)))\n",
        "model.add(Dropout(rate = drop_out_rate))\n",
        "\n",
        "#Layer-4\n",
        "model.add(Conv2D(256, kernel_size = (3,3), padding='same', activation = 'relu'))\n",
        "model.add(MaxPooling2D(pool_size = (2,2)))\n",
        "model.add(Dropout(rate = drop_out_rate))\n",
        "model.add(Flatten())\n",
        "model.add(Dense(128, activation='relu'))\n",
        "\n",
        "#Final Layer\n",
        "model.add(Dense(len(SYMBOLS), activation='softmax', kernel_initializer = keras.initializers.RandomNormal(mean = 0.0, stddev = 1), bias_initializer = keras.initializers.Zeros()))\n",
        "\n",
        "#compiling the model\n",
        "model.compile(loss = keras.losses.categorical_crossentropy, optimizer= keras.optimizers.Adam(), metrics = ['accuracy'])\n",
        "\n",
        "model.summary()"
      ],
      "execution_count": 0,
      "outputs": [
        {
          "output_type": "stream",
          "text": [
            "WARNING:tensorflow:From /usr/local/lib/python3.6/dist-packages/keras/backend/tensorflow_backend.py:4409: The name tf.random_normal is deprecated. Please use tf.random.normal instead.\n",
            "\n",
            "WARNING:tensorflow:From /usr/local/lib/python3.6/dist-packages/keras/optimizers.py:793: The name tf.train.Optimizer is deprecated. Please use tf.compat.v1.train.Optimizer instead.\n",
            "\n",
            "WARNING:tensorflow:From /usr/local/lib/python3.6/dist-packages/keras/backend/tensorflow_backend.py:3576: The name tf.log is deprecated. Please use tf.math.log instead.\n",
            "\n",
            "Model: \"sequential_2\"\n",
            "_________________________________________________________________\n",
            "Layer (type)                 Output Shape              Param #   \n",
            "=================================================================\n",
            "conv2d_5 (Conv2D)            (None, 32, 32, 32)        832       \n",
            "_________________________________________________________________\n",
            "max_pooling2d_5 (MaxPooling2 (None, 16, 16, 32)        0         \n",
            "_________________________________________________________________\n",
            "dropout_5 (Dropout)          (None, 16, 16, 32)        0         \n",
            "_________________________________________________________________\n",
            "conv2d_6 (Conv2D)            (None, 16, 16, 64)        18496     \n",
            "_________________________________________________________________\n",
            "max_pooling2d_6 (MaxPooling2 (None, 8, 8, 64)          0         \n",
            "_________________________________________________________________\n",
            "dropout_6 (Dropout)          (None, 8, 8, 64)          0         \n",
            "_________________________________________________________________\n",
            "conv2d_7 (Conv2D)            (None, 8, 8, 128)         73856     \n",
            "_________________________________________________________________\n",
            "max_pooling2d_7 (MaxPooling2 (None, 4, 4, 128)         0         \n",
            "_________________________________________________________________\n",
            "dropout_7 (Dropout)          (None, 4, 4, 128)         0         \n",
            "_________________________________________________________________\n",
            "conv2d_8 (Conv2D)            (None, 4, 4, 256)         295168    \n",
            "_________________________________________________________________\n",
            "max_pooling2d_8 (MaxPooling2 (None, 2, 2, 256)         0         \n",
            "_________________________________________________________________\n",
            "dropout_8 (Dropout)          (None, 2, 2, 256)         0         \n",
            "_________________________________________________________________\n",
            "flatten_2 (Flatten)          (None, 1024)              0         \n",
            "_________________________________________________________________\n",
            "dense_2 (Dense)              (None, 128)               131200    \n",
            "_________________________________________________________________\n",
            "dense_3 (Dense)              (None, 82)                10578     \n",
            "=================================================================\n",
            "Total params: 530,130\n",
            "Trainable params: 530,130\n",
            "Non-trainable params: 0\n",
            "_________________________________________________________________\n"
          ],
          "name": "stdout"
        }
      ]
    },
    {
      "cell_type": "code",
      "metadata": {
        "id": "vnDDNUsBxKvj",
        "colab_type": "code",
        "colab": {}
      },
      "source": [
        "def learning_rate_scheduler(epoch):\n",
        "    return 1e-3*(0.5**(epoch // 5))\n",
        "checkpoints =  keras.callbacks.ModelCheckpoint(\"/content/drive/My Drive/ECE1512_project/hand_written/models/CNN_classifier.hdf5\",\n",
        "                              monitor='val_acc',\n",
        "                              verbose=1,\n",
        "                              save_best_only=True,\n",
        "                              save_weights_only=True,\n",
        "                              mode='max',\n",
        "                              period=1)\n",
        "redued_learning_rate_cb = keras.callbacks.LearningRateScheduler(learning_rate_scheduler)\n",
        "cb_tensorboard = keras.callbacks.TensorBoard(log_dir='./Graph', write_graph=True, write_images=True)"
      ],
      "execution_count": 0,
      "outputs": []
    },
    {
      "cell_type": "code",
      "metadata": {
        "id": "vhM9X6HcjNJj",
        "colab_type": "code",
        "colab": {}
      },
      "source": [
        "X_train = X_train.reshape(len(X_train),32,32,1)\n",
        "X_val = X_val.reshape(len(X_val),32,32,1)"
      ],
      "execution_count": 0,
      "outputs": []
    },
    {
      "cell_type": "code",
      "metadata": {
        "id": "jmnVfn0-xPuH",
        "colab_type": "code",
        "outputId": "de3c58e3-dbf0-471b-d794-a7a5eaa0ee3b",
        "colab": {
          "base_uri": "https://localhost:8080/",
          "height": 1000
        }
      },
      "source": [
        "history = model.fit(X_train, y_train, epochs = 20, batch_size = 256, validation_data = (X_val, y_val), callbacks = [checkpoints, redued_learning_rate_cb, cb_tensorboard], class_weight = class_weights, verbose = 1)"
      ],
      "execution_count": 0,
      "outputs": [
        {
          "output_type": "stream",
          "text": [
            "Train on 262477 samples, validate on 112491 samples\n",
            "Epoch 1/20\n",
            "262477/262477 [==============================] - 17s 63us/step - loss: 2.6315 - acc: 0.3747 - val_loss: 0.8341 - val_acc: 0.7595\n",
            "\n",
            "Epoch 00001: val_acc improved from -inf to 0.75947, saving model to /content/drive/My Drive/ECE1512_project/hand_written/CNN_classifier.h5\n",
            "WARNING:tensorflow:From /usr/local/lib/python3.6/dist-packages/keras/callbacks.py:1265: The name tf.Summary is deprecated. Please use tf.compat.v1.Summary instead.\n",
            "\n",
            "Epoch 2/20\n",
            "262477/262477 [==============================] - 16s 60us/step - loss: 0.7121 - acc: 0.7624 - val_loss: 0.4856 - val_acc: 0.8450\n",
            "\n",
            "Epoch 00002: val_acc improved from 0.75947 to 0.84497, saving model to /content/drive/My Drive/ECE1512_project/hand_written/CNN_classifier.h5\n",
            "Epoch 3/20\n",
            "262477/262477 [==============================] - 15s 59us/step - loss: 0.4910 - acc: 0.8168 - val_loss: 0.4701 - val_acc: 0.8447\n",
            "\n",
            "Epoch 00003: val_acc did not improve from 0.84497\n",
            "Epoch 4/20\n",
            "262477/262477 [==============================] - 15s 59us/step - loss: 0.4008 - acc: 0.8386 - val_loss: 0.3607 - val_acc: 0.8763\n",
            "\n",
            "Epoch 00004: val_acc improved from 0.84497 to 0.87632, saving model to /content/drive/My Drive/ECE1512_project/hand_written/CNN_classifier.h5\n",
            "Epoch 5/20\n",
            "262477/262477 [==============================] - 16s 60us/step - loss: 0.3479 - acc: 0.8531 - val_loss: 0.3032 - val_acc: 0.8955\n",
            "\n",
            "Epoch 00005: val_acc improved from 0.87632 to 0.89546, saving model to /content/drive/My Drive/ECE1512_project/hand_written/CNN_classifier.h5\n",
            "Epoch 6/20\n",
            "262477/262477 [==============================] - 16s 59us/step - loss: 0.2867 - acc: 0.8707 - val_loss: 0.2902 - val_acc: 0.8932\n",
            "\n",
            "Epoch 00006: val_acc did not improve from 0.89546\n",
            "Epoch 7/20\n",
            "262477/262477 [==============================] - 16s 59us/step - loss: 0.2452 - acc: 0.8818 - val_loss: 0.2650 - val_acc: 0.9021\n",
            "\n",
            "Epoch 00007: val_acc improved from 0.89546 to 0.90207, saving model to /content/drive/My Drive/ECE1512_project/hand_written/CNN_classifier.h5\n",
            "Epoch 8/20\n",
            "262477/262477 [==============================] - 16s 59us/step - loss: 0.2346 - acc: 0.8862 - val_loss: 0.2384 - val_acc: 0.9116\n",
            "\n",
            "Epoch 00008: val_acc improved from 0.90207 to 0.91161, saving model to /content/drive/My Drive/ECE1512_project/hand_written/CNN_classifier.h5\n",
            "Epoch 9/20\n",
            "262477/262477 [==============================] - 16s 59us/step - loss: 0.2249 - acc: 0.8893 - val_loss: 0.2322 - val_acc: 0.9170\n",
            "\n",
            "Epoch 00009: val_acc improved from 0.91161 to 0.91699, saving model to /content/drive/My Drive/ECE1512_project/hand_written/CNN_classifier.h5\n",
            "Epoch 10/20\n",
            "262477/262477 [==============================] - 16s 60us/step - loss: 0.2155 - acc: 0.8932 - val_loss: 0.2710 - val_acc: 0.9084\n",
            "\n",
            "Epoch 00010: val_acc did not improve from 0.91699\n",
            "Epoch 11/20\n",
            "262477/262477 [==============================] - 15s 58us/step - loss: 0.1903 - acc: 0.9008 - val_loss: 0.2132 - val_acc: 0.9222\n",
            "\n",
            "Epoch 00011: val_acc improved from 0.91699 to 0.92222, saving model to /content/drive/My Drive/ECE1512_project/hand_written/CNN_classifier.h5\n",
            "Epoch 12/20\n",
            "262477/262477 [==============================] - 16s 60us/step - loss: 0.1758 - acc: 0.9049 - val_loss: 0.2037 - val_acc: 0.9241\n",
            "\n",
            "Epoch 00012: val_acc improved from 0.92222 to 0.92414, saving model to /content/drive/My Drive/ECE1512_project/hand_written/CNN_classifier.h5\n",
            "Epoch 13/20\n",
            "262477/262477 [==============================] - 16s 60us/step - loss: 0.1744 - acc: 0.9065 - val_loss: 0.2138 - val_acc: 0.9193\n",
            "\n",
            "Epoch 00013: val_acc did not improve from 0.92414\n",
            "Epoch 14/20\n",
            "262477/262477 [==============================] - 16s 59us/step - loss: 0.1657 - acc: 0.9092 - val_loss: 0.1896 - val_acc: 0.9283\n",
            "\n",
            "Epoch 00014: val_acc improved from 0.92414 to 0.92832, saving model to /content/drive/My Drive/ECE1512_project/hand_written/CNN_classifier.h5\n",
            "Epoch 15/20\n",
            "262477/262477 [==============================] - 16s 60us/step - loss: 0.1599 - acc: 0.9110 - val_loss: 0.1997 - val_acc: 0.9258\n",
            "\n",
            "Epoch 00015: val_acc did not improve from 0.92832\n",
            "Epoch 16/20\n",
            "262477/262477 [==============================] - 16s 60us/step - loss: 0.1491 - acc: 0.9149 - val_loss: 0.1837 - val_acc: 0.9315\n",
            "\n",
            "Epoch 00016: val_acc improved from 0.92832 to 0.93154, saving model to /content/drive/My Drive/ECE1512_project/hand_written/CNN_classifier.h5\n",
            "Epoch 17/20\n",
            "262477/262477 [==============================] - 15s 59us/step - loss: 0.1445 - acc: 0.9168 - val_loss: 0.1868 - val_acc: 0.9302\n",
            "\n",
            "Epoch 00017: val_acc did not improve from 0.93154\n",
            "Epoch 18/20\n",
            "262477/262477 [==============================] - 16s 60us/step - loss: 0.1421 - acc: 0.9174 - val_loss: 0.1862 - val_acc: 0.9304\n",
            "\n",
            "Epoch 00018: val_acc did not improve from 0.93154\n",
            "Epoch 19/20\n",
            "262477/262477 [==============================] - 16s 59us/step - loss: 0.1380 - acc: 0.9190 - val_loss: 0.1843 - val_acc: 0.9320\n",
            "\n",
            "Epoch 00019: val_acc improved from 0.93154 to 0.93199, saving model to /content/drive/My Drive/ECE1512_project/hand_written/CNN_classifier.h5\n",
            "Epoch 20/20\n",
            "262477/262477 [==============================] - 15s 59us/step - loss: 0.1378 - acc: 0.9186 - val_loss: 0.1935 - val_acc: 0.9292\n",
            "\n",
            "Epoch 00020: val_acc did not improve from 0.93199\n"
          ],
          "name": "stdout"
        }
      ]
    },
    {
      "cell_type": "code",
      "metadata": {
        "id": "VB7dM20ruYBs",
        "colab_type": "code",
        "outputId": "5c9e0d25-f110-497a-e4fe-2ff0a6cf6465",
        "colab": {
          "base_uri": "https://localhost:8080/",
          "height": 573
        }
      },
      "source": [
        "plot_fitting(history)"
      ],
      "execution_count": 0,
      "outputs": [
        {
          "output_type": "display_data",
          "data": {
            "image/png": "[encoded data removed]",
            "text/plain": [
              "<Figure size 432x288 with 1 Axes>"
            ]
          },
          "metadata": {
            "tags": []
          }
        },
        {
          "output_type": "display_data",
          "data": {
            "image/png": "[encoded data removed]",
            "text/plain": [
              "<Figure size 432x288 with 1 Axes>"
            ]
          },
          "metadata": {
            "tags": []
          }
        }
      ]
    },
    {
      "cell_type": "code",
      "metadata": {
        "id": "3DArnC0DCiiS",
        "colab_type": "code",
        "outputId": "a1ee3857-0fec-4a56-c14b-a6aac2ffa74f",
        "colab": {
          "base_uri": "https://localhost:8080/",
          "height": 34
        }
      },
      "source": [
        "!ls \"/content/drive/My Drive/ECE1512_project/hand_written/models\""
      ],
      "execution_count": 0,
      "outputs": [
        {
          "output_type": "stream",
          "text": [
            "CNN-classifier-1.hdf5\n"
          ],
          "name": "stdout"
        }
      ]
    },
    {
      "cell_type": "code",
      "metadata": {
        "id": "k4RJGTuwCtVp",
        "colab_type": "code",
        "colab": {}
      },
      "source": [
        "SYMBOLS = ['=', '-', ',', '!', '(', ')', '[', ']', '{', '}', '+', '0', '1', '2', '3', '4', '5', '6', '7', '8', '9', 'A', 'alpha', 'ascii_124', 'b', 'beta', 'C', 'cos', 'd', 'Delta', 'div', 'e', 'exists', 'f', 'forall', 'forward_slash', 'G', 'gamma', 'geq', 'gt', 'H', 'i', 'in', 'infty', 'int', 'j', 'k', 'l', 'lambda', 'ldots', 'leq', 'lim', 'log', 'lt', 'M', 'mu', 'N', 'neq', 'o', 'p', 'phi', 'pi', 'pm', 'prime', 'q', 'R', 'rightarrow', 'S', 'sigma', 'sin', 'sqrt', 'sum', 'T', 'tan', 'theta', 'times', 'u', 'v', 'w', 'X', 'y', 'z', '']"
      ],
      "execution_count": 0,
      "outputs": []
    },
    {
      "cell_type": "code",
      "metadata": {
        "id": "Jio9AbGjC4Zx",
        "colab_type": "code",
        "colab": {}
      },
      "source": [
        "from keras.models import Sequential\n",
        "from keras.models import Model\n",
        "from keras.layers import Dense, Dropout, Activation, Flatten\n",
        "from keras.layers import Conv2D, MaxPooling2D\n",
        "from keras.preprocessing.image import ImageDataGenerator, array_to_img, img_to_array, load_img\n",
        "from keras.callbacks import ModelCheckpoint, TensorBoard\n",
        "from keras import backend as  K"
      ],
      "execution_count": 0,
      "outputs": []
    },
    {
      "cell_type": "code",
      "metadata": {
        "id": "kFERvUapC4hm",
        "colab_type": "code",
        "outputId": "e757fb2a-0cb4-46b4-c58c-636a9d83d629",
        "colab": {
          "base_uri": "https://localhost:8080/",
          "height": 85
        }
      },
      "source": [
        "model = Sequential()\n",
        "model.add(Conv2D(32, (3, 3), padding='same',\n",
        "                 input_shape=(32,32,1)))\n",
        "model.add(Activation('relu'))\n",
        "\n",
        "model.add(Conv2D(32, (3, 3)))\n",
        "model.add(Activation('relu'))\n",
        "model.add(MaxPooling2D(pool_size=(2, 2)))\n",
        "model.add(Dropout(0.25))\n",
        "\n",
        "model.add(Conv2D(64, (3, 3), padding='same'))\n",
        "model.add(Activation('relu'))\n",
        "\n",
        "model.add(Conv2D(64, (3, 3)))\n",
        "model.add(Activation('relu'))\n",
        "model.add(MaxPooling2D(pool_size=(2, 2)))\n",
        "model.add(Dropout(0.25))\n",
        "\n",
        "model.add(Flatten())\n",
        "\n",
        "model.add(Dense(512))\n",
        "model.add(Activation('relu'))\n",
        "model.add(Dropout(0.5))\n",
        "\n",
        "model.add(Dense(len(SYMBOLS)))\n",
        "model.add(Activation('softmax'))\n",
        "\n",
        "model.compile(loss='categorical_crossentropy',\n",
        "              optimizer='adam',\n",
        "              metrics=['accuracy'])"
      ],
      "execution_count": 0,
      "outputs": [
        {
          "output_type": "stream",
          "text": [
            "WARNING:tensorflow:From /usr/local/lib/python3.6/dist-packages/keras/optimizers.py:793: The name tf.train.Optimizer is deprecated. Please use tf.compat.v1.train.Optimizer instead.\n",
            "\n",
            "WARNING:tensorflow:From /usr/local/lib/python3.6/dist-packages/keras/backend/tensorflow_backend.py:3576: The name tf.log is deprecated. Please use tf.math.log instead.\n",
            "\n"
          ],
          "name": "stdout"
        }
      ]
    },
    {
      "cell_type": "code",
      "metadata": {
        "id": "OicOTnaYButR",
        "colab_type": "code",
        "outputId": "583c5a96-dd33-4c7f-ccb5-360597bad6dc",
        "colab": {
          "base_uri": "https://localhost:8080/",
          "height": 221
        }
      },
      "source": [
        "model.load_weights(\"/content/drive/My Drive/ECE1512_project/hand_written/models/CNN-classifier-1.hdf5\")"
      ],
      "execution_count": 0,
      "outputs": [
        {
          "output_type": "stream",
          "text": [
            "WARNING:tensorflow:From /usr/local/lib/python3.6/dist-packages/keras/backend/tensorflow_backend.py:190: The name tf.get_default_session is deprecated. Please use tf.compat.v1.get_default_session instead.\n",
            "\n",
            "WARNING:tensorflow:From /usr/local/lib/python3.6/dist-packages/keras/backend/tensorflow_backend.py:197: The name tf.ConfigProto is deprecated. Please use tf.compat.v1.ConfigProto instead.\n",
            "\n",
            "WARNING:tensorflow:From /usr/local/lib/python3.6/dist-packages/keras/backend/tensorflow_backend.py:203: The name tf.Session is deprecated. Please use tf.compat.v1.Session instead.\n",
            "\n",
            "WARNING:tensorflow:From /usr/local/lib/python3.6/dist-packages/keras/backend/tensorflow_backend.py:207: The name tf.global_variables is deprecated. Please use tf.compat.v1.global_variables instead.\n",
            "\n",
            "WARNING:tensorflow:From /usr/local/lib/python3.6/dist-packages/keras/backend/tensorflow_backend.py:216: The name tf.is_variable_initialized is deprecated. Please use tf.compat.v1.is_variable_initialized instead.\n",
            "\n",
            "WARNING:tensorflow:From /usr/local/lib/python3.6/dist-packages/keras/backend/tensorflow_backend.py:223: The name tf.variables_initializer is deprecated. Please use tf.compat.v1.variables_initializer instead.\n",
            "\n"
          ],
          "name": "stdout"
        }
      ]
    },
    {
      "cell_type": "code",
      "metadata": {
        "id": "fXVpRnEJlBWC",
        "colab_type": "code",
        "outputId": "dd6415a8-1926-462c-b6a3-7a709649b197",
        "colab": {
          "base_uri": "https://localhost:8080/",
          "height": 54
        }
      },
      "source": [
        "test_dir = \"/content/drive/My Drive/ECE1512_project/hand_written/char/char/test\"\n",
        "SYMBOLS = os.listdir(test_dir)\n",
        "print([symbol for symbol in SYMBOLS])"
      ],
      "execution_count": 0,
      "outputs": [
        {
          "output_type": "stream",
          "text": [
            "['=', '-', ',', '!', '(', ')', '[', ']', '{', '}', '+', '0', '1', '2', '3', '4', '5', '6', '7', '8', '9', 'A', 'alpha', 'ascii_124', 'b', 'beta', 'C', 'cos', 'd', 'Delta', 'div', 'e', 'exists', 'f', 'forall', 'forward_slash', 'G', 'gamma', 'geq', 'gt', 'H', 'i', 'in', 'infty', 'int', 'j', 'k', 'l', 'lambda', 'ldots', 'leq', 'lim', 'log', 'lt', 'M', 'mu', 'N', 'neq', 'o', 'p', 'phi', 'pi', 'pm', 'prime', 'q', 'R', 'rightarrow', 'S', 'sigma', 'sin', 'sqrt', 'sum', 'T', 'tan', 'theta', 'times', 'u', 'v', 'w', 'X', 'y', 'z', '']\n"
          ],
          "name": "stdout"
        }
      ]
    },
    {
      "cell_type": "code",
      "metadata": {
        "id": "l1OZbN7dlBhh",
        "colab_type": "code",
        "colab": {}
      },
      "source": [
        "X_b_test = []\n",
        "Y_b_test = []\n",
        "for i in range(len(SYMBOLS)):\n",
        "    for a_img_path in glob.glob(os.path.join(test_dir, SYMBOLS[i]) + \"/*.jpg\"):\n",
        "        \n",
        "        # read\n",
        "        im = io.imread(a_img_path)\n",
        "        \n",
        "        # resize\n",
        "        im = transform.resize(im, target_sz, mode='symmetric', preserve_range=True)\n",
        "        \n",
        "        # threashold to convert it to binary\n",
        "        thresh = threshold_mean(im)\n",
        "        binary = im > thresh\n",
        "        \n",
        "        # binary conversion\n",
        "        binary[binary == True] = 1\n",
        "        binary[binary == False] = 0\n",
        "        \n",
        "        X_b_test.append(binary)\n",
        "        Y_b_test.append(i)"
      ],
      "execution_count": 0,
      "outputs": []
    },
    {
      "cell_type": "code",
      "metadata": {
        "id": "HyRxaVxollyw",
        "colab_type": "code",
        "colab": {}
      },
      "source": [
        "Y = keras.utils.to_categorical(Y_b_test, len(SYMBOLS))\n",
        "X_test = np.array(X_b_test)\n",
        "Y_test = np.array(Y_b_test)\n",
        "X_test = X_test.reshape(len(X_test),32,32,1)"
      ],
      "execution_count": 0,
      "outputs": []
    },
    {
      "cell_type": "code",
      "metadata": {
        "id": "Gtzz4U6Mmm78",
        "colab_type": "code",
        "colab": {}
      },
      "source": [
        "y_pred = model.predict(X_test, batch_size=128, verbose=2)"
      ],
      "execution_count": 0,
      "outputs": []
    },
    {
      "cell_type": "code",
      "metadata": {
        "id": "jt4eYQdWF3HY",
        "colab_type": "code",
        "outputId": "d85bf24c-21a3-4c4b-fb67-51907a241f51",
        "colab": {
          "base_uri": "https://localhost:8080/",
          "height": 34
        }
      },
      "source": [
        "Y_cls = np.argmax(Y, axis =1)\n",
        "Y_cls"
      ],
      "execution_count": 0,
      "outputs": [
        {
          "output_type": "execute_result",
          "data": {
            "text/plain": [
              "array([ 0,  0,  0, ..., 81, 81, 81])"
            ]
          },
          "metadata": {
            "tags": []
          },
          "execution_count": 64
        }
      ]
    },
    {
      "cell_type": "code",
      "metadata": {
        "id": "dn5epsXRIpQB",
        "colab_type": "code",
        "outputId": "6b90f47d-96e1-4a6a-e521-c24dcff90758",
        "colab": {
          "base_uri": "https://localhost:8080/",
          "height": 136
        }
      },
      "source": [
        "from sklearn.metrics import confusion_matrix\n",
        "y_cls_p = np.argmax(y_pred, axis = 1)\n",
        "CM = confusion_matrix(Y_cls, y_cls_p)\n",
        "CM"
      ],
      "execution_count": 0,
      "outputs": [
        {
          "output_type": "execute_result",
          "data": {
            "text/plain": [
              "array([[12,  0,  0, ...,  0,  0,  0],\n",
              "       [ 0, 12,  0, ...,  0,  0,  0],\n",
              "       [ 0,  0, 10, ...,  0,  0,  0],\n",
              "       ...,\n",
              "       [ 0,  0,  0, ..., 45,  0,  0],\n",
              "       [ 0,  0,  0, ...,  0, 15,  0],\n",
              "       [ 0,  0,  0, ...,  0,  0, 19]])"
            ]
          },
          "metadata": {
            "tags": []
          },
          "execution_count": 70
        }
      ]
    },
    {
      "cell_type": "code",
      "metadata": {
        "id": "56w4EhV-nr1q",
        "colab_type": "code",
        "outputId": "c0d31591-c915-45a8-cfa7-0108f2840031",
        "colab": {
          "base_uri": "https://localhost:8080/",
          "height": 656
        }
      },
      "source": [
        "import seaborn as sn\n",
        "import pandas as pd\n",
        "import matplotlib.pyplot as plt\n",
        "\n",
        "df_cm = pd.DataFrame(CM, index = SYMBOLS, columns = SYMBOLS)\n",
        "plt.figure(figsize = (10,10))\n",
        "sn.heatmap(df_cm, annot=True)"
      ],
      "execution_count": 0,
      "outputs": [
        {
          "output_type": "execute_result",
          "data": {
            "text/plain": [
              "<matplotlib.axes._subplots.AxesSubplot at 0x7ffa9df60940>"
            ]
          },
          "metadata": {
            "tags": []
          },
          "execution_count": 80
        },
        {
          "output_type": "display_data",
          "data": {
            "image/png": "[encoded data removed]",
            "text/plain": [
              "<Figure size 720x720 with 2 Axes>"
            ]
          },
          "metadata": {
            "tags": []
          }
        }
      ]
    },
    {
      "cell_type": "code",
      "metadata": {
        "id": "FQ4MZ_MSJJUj",
        "colab_type": "code",
        "outputId": "21b7da91-9f92-4479-da10-162655b1835e",
        "colab": {
          "base_uri": "https://localhost:8080/",
          "height": 34
        }
      },
      "source": [
        "test_acc = np.sum(y_cls_p == Y_cls)/len(Y_cls)\n",
        "print('Test accuracy of the CNN is {}'.format(test_acc))"
      ],
      "execution_count": 0,
      "outputs": [
        {
          "output_type": "stream",
          "text": [
            "Test accuracy of the CNN is 0.9396092362344582\n"
          ],
          "name": "stdout"
        }
      ]
    },
    {
      "cell_type": "code",
      "metadata": {
        "id": "OkzLvFOpLbqu",
        "colab_type": "code",
        "outputId": "1178b842-863b-4b64-e86a-9cec127f1950",
        "colab": {
          "base_uri": "https://localhost:8080/",
          "height": 295
        }
      },
      "source": [
        "# Compute ROC curve and ROC area for each class\n",
        "from sklearn.metrics import roc_curve, auc\n",
        "from scipy import interp\n",
        "from itertools import cycle\n",
        "\n",
        "lw = 1.5 \n",
        "fpr = dict()\n",
        "tpr = dict()\n",
        "roc_auc = dict()\n",
        "for i in range(len(SYMBOLS)):\n",
        "    fpr[i], tpr[i], _ = roc_curve(Y[:, i], y_pred[:, i])\n",
        "    roc_auc[i] = auc(fpr[i], tpr[i])\n",
        "\n",
        "# Compute micro-average ROC curve and ROC area\n",
        "fpr[\"micro\"], tpr[\"micro\"], _ = roc_curve(Y.ravel(), y_pred.ravel())\n",
        "roc_auc[\"micro\"] = auc(fpr[\"micro\"], tpr[\"micro\"])\n",
        "\n",
        "# Compute macro-average ROC curve and ROC area\n",
        "\n",
        "# First aggregate all false positive rates\n",
        "all_fpr = np.unique(np.concatenate([fpr[i] for i in range(len(SYMBOLS))]))\n",
        "\n",
        "# Then interpolate all ROC curves at this points\n",
        "mean_tpr = np.zeros_like(all_fpr)\n",
        "for i in range(len(SYMBOLS)):\n",
        "    mean_tpr += interp(all_fpr, fpr[i], tpr[i])\n",
        "\n",
        "# Finally average it and compute AUC\n",
        "mean_tpr /= len(SYMBOLS)\n",
        "\n",
        "fpr[\"macro\"] = all_fpr\n",
        "tpr[\"macro\"] = mean_tpr\n",
        "roc_auc[\"macro\"] = auc(fpr[\"macro\"], tpr[\"macro\"])\n",
        "\n",
        "# Plot all ROC curves\n",
        "plt.plot(fpr[\"micro\"], tpr[\"micro\"],\n",
        "         label='micro-average ROC curve (area = {0:0.2f})'\n",
        "               ''.format(roc_auc[\"micro\"]),\n",
        "         color='red', linestyle=':', linewidth=4)\n",
        "\n",
        "plt.plot(fpr[\"macro\"], tpr[\"macro\"],\n",
        "         label='macro-average ROC curve (area = {0:0.2f})'\n",
        "               ''.format(roc_auc[\"macro\"]),\n",
        "         color='navy', linestyle=':', linewidth=4)\n",
        "\n",
        "colors = cycle(['aqua', 'darkorange', 'cornflowerblue'])\n",
        "for i, color in zip(range(len(SYMBOLS)), colors):\n",
        "    plt.plot(fpr[i], tpr[i], color=[i/len(SYMBOLS), 0.2*(i/len(SYMBOLS)), i/len(SYMBOLS)], lw=lw, label='ROC curve of class {0} (area = {1:0.2f})'.format(i, roc_auc[i]))\n",
        "\n",
        "plt.plot([0, 1], [0, 1], 'k--', lw=lw)\n",
        "plt.xlim([0.0, 1.0])\n",
        "plt.ylim([0.0, 1.05])\n",
        "plt.xlabel('False Positive Rate')\n",
        "plt.ylabel('True Positive Rate')\n",
        "plt.title('ROC-for the CNN classifier')\n",
        "#plt.legend(loc=\"lower right\")\n",
        "plt.show()\n"
      ],
      "execution_count": 0,
      "outputs": [
        {
          "output_type": "display_data",
          "data": {
            "image/png": "[encoded data removed]",
            "text/plain": [
              "<Figure size 432x288 with 1 Axes>"
            ]
          },
          "metadata": {
            "tags": []
          }
        }
      ]
    }
  ]
}