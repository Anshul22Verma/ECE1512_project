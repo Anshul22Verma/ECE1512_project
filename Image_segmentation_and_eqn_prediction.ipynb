{
  "nbformat": 4,
  "nbformat_minor": 0,
  "metadata": {
    "colab": {
      "name": "Approach1.ipynb",
      "provenance": [],
      "collapsed_sections": []
    },
    "kernelspec": {
      "name": "python3",
      "display_name": "Python 3"
    }
  },
  "cells": [
    {
      "cell_type": "code",
      "metadata": {
        "id": "zcW5Sh3K2Z8w",
        "colab_type": "code",
        "outputId": "64328d98-7ab5-43b6-93ac-01c326191582",
        "colab": {
          "base_uri": "https://localhost:8080/",
          "height": 80
        }
      },
      "source": [
        "from keras.models import load_model"
      ],
      "execution_count": 0,
      "outputs": [
        {
          "output_type": "stream",
          "text": [
            "Using TensorFlow backend.\n"
          ],
          "name": "stderr"
        },
        {
          "output_type": "display_data",
          "data": {
            "text/html": [
              "<p style=\"color: red;\">\n",
              "The default version of TensorFlow in Colab will soon switch to TensorFlow 2.x.<br>\n",
              "We recommend you <a href=\"https://www.tensorflow.org/guide/migrate\" target=\"_blank\">upgrade</a> now \n",
              "or ensure your notebook will continue to use TensorFlow 1.x via the <code>%tensorflow_version 1.x</code> magic:\n",
              "<a href=\"https://colab.research.google.com/notebooks/tensorflow_version.ipynb\" target=\"_blank\">more info</a>.</p>\n"
            ],
            "text/plain": [
              "<IPython.core.display.HTML object>"
            ]
          },
          "metadata": {
            "tags": []
          }
        }
      ]
    },
    {
      "cell_type": "code",
      "metadata": {
        "id": "itKK2Hk45J2F",
        "colab_type": "code",
        "outputId": "98d78a6c-937c-4add-e80b-aedea247cfd6",
        "colab": {
          "base_uri": "https://localhost:8080/",
          "height": 122
        }
      },
      "source": [
        "from google.colab import drive\n",
        "drive.mount('/content/drive')"
      ],
      "execution_count": 0,
      "outputs": [
        {
          "output_type": "stream",
          "text": [
            "Go to this URL in a browser: https://accounts.google.com/o/oauth2/auth?client_id=947318989803-6bn6qk8qdgf4n4g3pfee6491hc0brc4i.apps.googleusercontent.com&redirect_uri=urn%3aietf%3awg%3aoauth%3a2.0%3aoob&response_type=code&scope=email%20https%3a%2f%2fwww.googleapis.com%2fauth%2fdocs.test%20https%3a%2f%2fwww.googleapis.com%2fauth%2fdrive%20https%3a%2f%2fwww.googleapis.com%2fauth%2fdrive.photos.readonly%20https%3a%2f%2fwww.googleapis.com%2fauth%2fpeopleapi.readonly\n",
            "\n",
            "Enter your authorization code:\n",
            "··········\n",
            "Mounted at /content/drive\n"
          ],
          "name": "stdout"
        }
      ]
    },
    {
      "cell_type": "code",
      "metadata": {
        "id": "I9tNsS3n5QyH",
        "colab_type": "code",
        "colab": {}
      },
      "source": [
        "from tensorflow.python.keras import backend as Keras\n",
        "from tensorflow.python.keras.models import Model\n",
        "from tensorflow.python.keras.layers import Input, Dense, GRU, Embedding\n",
        "from tensorflow.python.keras.optimizers import RMSprop\n",
        "from tensorflow.python.keras.callbacks import ModelCheckpoint, TensorBoard\n",
        "from tensorflow.python.keras.preprocessing.text import Tokenizer\n",
        "from tensorflow.python.keras.preprocessing.sequence import pad_sequences\n",
        "from PIL import Image\n",
        "import matplotlib.pyplot as plt\n",
        "import numpy as np\n",
        "import os\n",
        "from PIL import Image"
      ],
      "execution_count": 0,
      "outputs": []
    },
    {
      "cell_type": "markdown",
      "metadata": {
        "id": "Hc5wWVl45_gu",
        "colab_type": "text"
      },
      "source": [
        "**Approach 1** - Bounbed box and character recorgnizer"
      ]
    },
    {
      "cell_type": "markdown",
      "metadata": {
        "id": "4mrd7V7D6U98",
        "colab_type": "text"
      },
      "source": [
        "a) Loading the trained CNN"
      ]
    },
    {
      "cell_type": "code",
      "metadata": {
        "id": "YULLglLQ6Ow5",
        "colab_type": "code",
        "outputId": "a69f5602-276f-402f-9bfb-1fd9cb60f1bf",
        "colab": {
          "base_uri": "https://localhost:8080/",
          "height": 1000
        }
      },
      "source": [
        "from keras.models import Sequential\n",
        "from keras.models import Model\n",
        "from keras.layers import Dense, Dropout, Activation, Flatten\n",
        "from keras.layers import Conv2D, MaxPooling2D\n",
        "from keras.preprocessing.image import ImageDataGenerator, array_to_img, img_to_array, load_img\n",
        "from keras.callbacks import ModelCheckpoint, TensorBoard\n",
        "from keras import backend as  K\n",
        "\n",
        "model = Sequential()\n",
        "model.add(Conv2D(32, (3, 3), padding='same', activation= 'relu', input_shape=(32,32,1)))\n",
        "\n",
        "model.add(Conv2D(32, (3, 3), activation = 'relu'))\n",
        "model.add(MaxPooling2D(pool_size=(2, 2)))\n",
        "model.add(Dropout(0.25))\n",
        "\n",
        "model.add(Conv2D(64, (3, 3), padding='same', activation= 'relu'))\n",
        "\n",
        "model.add(Conv2D(64, (3, 3), activation= 'relu'))\n",
        "model.add(MaxPooling2D(pool_size=(2, 2)))\n",
        "model.add(Dropout(0.25))\n",
        "\n",
        "model.add(Flatten())\n",
        "\n",
        "model.add(Dense(512, activation = 'relu'))\n",
        "model.add(Dropout(0.5))\n",
        "\n",
        "model.add(Dense(83, activation= 'softmax'))\n",
        "\n",
        "model.compile(loss='categorical_crossentropy',\n",
        "              optimizer='adam',\n",
        "              metrics=['accuracy'])\n",
        "model.summary()\n",
        "\n",
        "model.load_weights(\"/content/drive/My Drive/ECE1512_project/hand_written/models/CNN-classifier-1.hdf5\")"
      ],
      "execution_count": 0,
      "outputs": [
        {
          "output_type": "stream",
          "text": [
            "WARNING:tensorflow:From /usr/local/lib/python3.6/dist-packages/keras/backend/tensorflow_backend.py:66: The name tf.get_default_graph is deprecated. Please use tf.compat.v1.get_default_graph instead.\n",
            "\n",
            "WARNING:tensorflow:From /usr/local/lib/python3.6/dist-packages/keras/backend/tensorflow_backend.py:541: The name tf.placeholder is deprecated. Please use tf.compat.v1.placeholder instead.\n",
            "\n",
            "WARNING:tensorflow:From /usr/local/lib/python3.6/dist-packages/keras/backend/tensorflow_backend.py:4432: The name tf.random_uniform is deprecated. Please use tf.random.uniform instead.\n",
            "\n",
            "WARNING:tensorflow:From /usr/local/lib/python3.6/dist-packages/keras/backend/tensorflow_backend.py:4267: The name tf.nn.max_pool is deprecated. Please use tf.nn.max_pool2d instead.\n",
            "\n",
            "WARNING:tensorflow:From /usr/local/lib/python3.6/dist-packages/keras/backend/tensorflow_backend.py:148: The name tf.placeholder_with_default is deprecated. Please use tf.compat.v1.placeholder_with_default instead.\n",
            "\n",
            "WARNING:tensorflow:From /usr/local/lib/python3.6/dist-packages/keras/backend/tensorflow_backend.py:3733: calling dropout (from tensorflow.python.ops.nn_ops) with keep_prob is deprecated and will be removed in a future version.\n",
            "Instructions for updating:\n",
            "Please use `rate` instead of `keep_prob`. Rate should be set to `rate = 1 - keep_prob`.\n",
            "WARNING:tensorflow:From /usr/local/lib/python3.6/dist-packages/keras/optimizers.py:793: The name tf.train.Optimizer is deprecated. Please use tf.compat.v1.train.Optimizer instead.\n",
            "\n",
            "WARNING:tensorflow:From /usr/local/lib/python3.6/dist-packages/keras/backend/tensorflow_backend.py:3576: The name tf.log is deprecated. Please use tf.math.log instead.\n",
            "\n",
            "Model: \"sequential_1\"\n",
            "_________________________________________________________________\n",
            "Layer (type)                 Output Shape              Param #   \n",
            "=================================================================\n",
            "conv2d_1 (Conv2D)            (None, 32, 32, 32)        320       \n",
            "_________________________________________________________________\n",
            "conv2d_2 (Conv2D)            (None, 30, 30, 32)        9248      \n",
            "_________________________________________________________________\n",
            "max_pooling2d_1 (MaxPooling2 (None, 15, 15, 32)        0         \n",
            "_________________________________________________________________\n",
            "dropout_1 (Dropout)          (None, 15, 15, 32)        0         \n",
            "_________________________________________________________________\n",
            "conv2d_3 (Conv2D)            (None, 15, 15, 64)        18496     \n",
            "_________________________________________________________________\n",
            "conv2d_4 (Conv2D)            (None, 13, 13, 64)        36928     \n",
            "_________________________________________________________________\n",
            "max_pooling2d_2 (MaxPooling2 (None, 6, 6, 64)          0         \n",
            "_________________________________________________________________\n",
            "dropout_2 (Dropout)          (None, 6, 6, 64)          0         \n",
            "_________________________________________________________________\n",
            "flatten_1 (Flatten)          (None, 2304)              0         \n",
            "_________________________________________________________________\n",
            "dense_1 (Dense)              (None, 512)               1180160   \n",
            "_________________________________________________________________\n",
            "dropout_3 (Dropout)          (None, 512)               0         \n",
            "_________________________________________________________________\n",
            "dense_2 (Dense)              (None, 83)                42579     \n",
            "=================================================================\n",
            "Total params: 1,287,731\n",
            "Trainable params: 1,287,731\n",
            "Non-trainable params: 0\n",
            "_________________________________________________________________\n",
            "WARNING:tensorflow:From /usr/local/lib/python3.6/dist-packages/keras/backend/tensorflow_backend.py:190: The name tf.get_default_session is deprecated. Please use tf.compat.v1.get_default_session instead.\n",
            "\n",
            "WARNING:tensorflow:From /usr/local/lib/python3.6/dist-packages/keras/backend/tensorflow_backend.py:197: The name tf.ConfigProto is deprecated. Please use tf.compat.v1.ConfigProto instead.\n",
            "\n",
            "WARNING:tensorflow:From /usr/local/lib/python3.6/dist-packages/keras/backend/tensorflow_backend.py:203: The name tf.Session is deprecated. Please use tf.compat.v1.Session instead.\n",
            "\n",
            "WARNING:tensorflow:From /usr/local/lib/python3.6/dist-packages/keras/backend/tensorflow_backend.py:207: The name tf.global_variables is deprecated. Please use tf.compat.v1.global_variables instead.\n",
            "\n",
            "WARNING:tensorflow:From /usr/local/lib/python3.6/dist-packages/keras/backend/tensorflow_backend.py:216: The name tf.is_variable_initialized is deprecated. Please use tf.compat.v1.is_variable_initialized instead.\n",
            "\n",
            "WARNING:tensorflow:From /usr/local/lib/python3.6/dist-packages/keras/backend/tensorflow_backend.py:223: The name tf.variables_initializer is deprecated. Please use tf.compat.v1.variables_initializer instead.\n",
            "\n"
          ],
          "name": "stdout"
        }
      ]
    },
    {
      "cell_type": "markdown",
      "metadata": {
        "id": "gLIjWNsK6yxt",
        "colab_type": "text"
      },
      "source": [
        "Generating Image-Markup using image processing and trained CNN"
      ]
    },
    {
      "cell_type": "code",
      "metadata": {
        "id": "D4rGg7cz6uCl",
        "colab_type": "code",
        "colab": {}
      },
      "source": [
        "import cv2 as cv\n",
        "import numpy as np\n",
        "from google.colab.patches import cv2_imshow\n",
        "\n",
        "#function to find bounded box \n",
        "def bb_pred(img_path, max_box= None, k_gaus = None, k_dil = None, Vis = None):\n",
        "  if(Vis == None):\n",
        "    Vis = False\n",
        "  \n",
        "  if(max_box == None):\n",
        "    max_box = 7\n",
        "  \n",
        "  if (k_gaus == None):\n",
        "    k_gaus = (5, 5)\n",
        "  else:\n",
        "    k_gaus = (k_gaus, k_guas)\n",
        "  \n",
        "  if (k_dil == None):\n",
        "    k_dil = np.ones((5, 5), np.uint8)\n",
        "  else:\n",
        "    k_dil = np.ones((k_dil, k_dil), np.uint8)\n",
        "\n",
        "  img = cv.imread(img_path)\n",
        "  img_grey = cv.cvtColor(img, cv.COLOR_BGR2GRAY)\n",
        "  g_blur = cv.GaussianBlur(img_grey, k_gaus, 0)\n",
        "  img_thres = cv.adaptiveThreshold(g_blur, 255, cv.ADAPTIVE_THRESH_GAUSSIAN_C, cv.THRESH_BINARY_INV, 11, 2)\n",
        "  img_dil = cv.dilate(img_thres , k_dil, iterations = 1)\n",
        "  (_, contours, hierarchy) = cv.findContours(img_dil, cv.RETR_EXTERNAL, cv.CHAIN_APPROX_NONE )\n",
        "  Pseudo_attn = np.zeros((max_box, 4))\n",
        "  c = 0\n",
        "  X = []\n",
        "  Y = []\n",
        "  W = []\n",
        "  H = []\n",
        "  for contour in contours:\n",
        "    (x,y,w,h) = cv.boundingRect(contour)\n",
        "    X.append(x)\n",
        "    Y.append(y)\n",
        "    W.append(w)\n",
        "    H.append(h)\n",
        "    cv.rectangle(img, (x,y), (x+w,y+h), (0,255,0), 2)\n",
        "  if(Vis == True):\n",
        "    cv2_imshow(img_grey)\n",
        "    cv2_imshow(g_blur)\n",
        "    cv2_imshow(img_thres)\n",
        "    cv2_imshow(img_dil)\n",
        "    cv2_imshow(img)\n",
        "  X = np.array(X)\n",
        "  Y = np.array(Y)\n",
        "  W = np.array(W)\n",
        "  H = np.array(H)\n",
        "  ind = X.argsort()\n",
        "  return X[ind], Y[ind], W[ind], H[ind]"
      ],
      "execution_count": 0,
      "outputs": []
    },
    {
      "cell_type": "markdown",
      "metadata": {
        "id": "i1rWyxft8b6i",
        "colab_type": "text"
      },
      "source": [
        "Predicting the segments of original image"
      ]
    },
    {
      "cell_type": "code",
      "metadata": {
        "id": "eZjkHA7t7PUO",
        "colab_type": "code",
        "colab": {}
      },
      "source": [
        "def centeread_reshaped(segment, Vis = None):\n",
        "#Centering\n",
        "  if(Vis == None):\n",
        "    Vis = False\n",
        "  segment = cv.resize(segment, (50, 50))\n",
        "  centered = np.pad(segment[:, :, 0], ((5, 5), (5, 5)), 'maximum')\n",
        "  #Rescaling these sectioned images for classification to CNN's input-size(32, 32, 1)\n",
        "  centered_rescaled = cv.resize(centered, (32, 32))\n",
        "  #cv2_imshow(centered_rescaled)\n",
        "  if(Vis == True):\n",
        "    cv2_imshow(centered_rescaled)\n",
        "  return centered_rescaled"
      ],
      "execution_count": 0,
      "outputs": []
    },
    {
      "cell_type": "markdown",
      "metadata": {
        "id": "gSg7zpXUAm7p",
        "colab_type": "text"
      },
      "source": [
        "Reading the data-set and finding the exact matches and BLUE score"
      ]
    },
    {
      "cell_type": "code",
      "metadata": {
        "id": "R2jmCYj7PBeB",
        "colab_type": "code",
        "colab": {}
      },
      "source": [
        "from skimage import transform,io\n",
        "from skimage.filters import threshold_mean\n",
        "def pred_cls(img):\n",
        "  img = transform.resize(img, (32, 32), mode='symmetric', preserve_range=True)\n",
        "  # threashold to convert it to binary\n",
        "  thresh = threshold_mean(img)\n",
        "  img_t = img > thresh\n",
        "  img_t = img_t.reshape(1,32,32,1)\n",
        "  pred = model.predict_classes(img_t)\n",
        "  classes = ['=', '-', ',', '!', '(', ')', '[', ']', '{', '}', '+', '0', '1', '2', '3', '4', '5', '6', '7', '8', '9', 'A', 'alpha', 'ascii_124', 'b', 'beta', 'C', 'cos', 'd', 'Delta', 'div', 'e', 'exists', 'f', 'forall', 'forward_slash', 'G', 'gamma', 'geq', 'gt', 'H', 'i', 'in', 'infty', 'int', 'j', 'k', 'l', 'lambda', 'ldots', 'leq', 'lim', 'log', 'lt', 'M', 'mu', 'N', 'neq', 'o', 'p', 'phi', 'pi', 'pm', 'prime', 'q', 'R', 'rightarrow', 'S', 'sigma', 'sin', 'sqrt', 'sum', 'T', 'tan', 'theta', 'times', 'u', 'v', 'w', 'X', 'y', 'z', '']\n",
        "  pred_cls = []\n",
        "  return(classes[pred[0]])"
      ],
      "execution_count": 0,
      "outputs": []
    },
    {
      "cell_type": "code",
      "metadata": {
        "id": "4cXrrkgJADEL",
        "colab_type": "code",
        "colab": {}
      },
      "source": [
        "#loading the data-set\n",
        "root_dir = \"/content/drive/My Drive/ECE1512_project/hand_written/eqn\"\n",
        "#Reading the training data file_name and gt_formulas\n",
        "train_f = \"groundtruth_train.tsv\"\n",
        "f1 = open(os.path.join(root_dir, train_f))\n",
        "\n",
        "file_name = []\n",
        "formulas = []\n",
        "max_len = 0\n",
        "for line in f1:\n",
        "  if len(line.split('\\t')) == 2:\n",
        "    file_name.append(os.path.join(os.path.join(root_dir, 'train'), (line.split('\\t')[0] + '.png')))\n",
        "    dummy = line.split('\\t')[1]\n",
        "    formulas.append(dummy.replace('_', ' _ ').replace('^', ' ^ ').replace('\\n', ' ').replace('\\t', ' ').replace('{', ' { ').replace('}', ' } ').replace('(', ' ( ').replace(')', ' ) ').replace('=', ' = ').replace('+', ' + ').replace('-', ' - ').replace('\\\\', ' \\\\').replace(',', ' , ').replace('~', ' '))\n",
        "    max_len = max(len(dummy), max_len)\n"
      ],
      "execution_count": 0,
      "outputs": []
    },
    {
      "cell_type": "code",
      "metadata": {
        "id": "nE18AwXJOmiB",
        "colab_type": "code",
        "colab": {}
      },
      "source": [
        "pred_form = []\n",
        "for i in range(0, len(file_name)):\n",
        "  img = cv.imread(file_name[i])\n",
        "  GT_formula = (formulas[i]).split(' ')\n",
        "  x, y, w, h = bb_pred(file_name[i])\n",
        "  pred_len = len(x)\n",
        "  pred = []\n",
        "  #cv2_imshow(img) \n",
        "  for i in range(0, len(x)):\n",
        "    segment = img[y[i]:(y[i]+h[i]), x[i]:(x[i]+w[i])]\n",
        "    #cv2_imshow(segment)\n",
        "    #print(np.shape(segment))\n",
        "    segment = centeread_reshaped(segment)\n",
        "    pred.append(pred_cls(segment))\n",
        "  pred_form.append(\"\".join(pred))\n",
        "  #print('Predicted Fromula: ' + \" \".join(pred))\n",
        "  #print('Actual Formula: ' + formulas[i]+ '\\n')"
      ],
      "execution_count": 0,
      "outputs": []
    },
    {
      "cell_type": "code",
      "metadata": {
        "colab_type": "code",
        "id": "LDVlX09rq9ob",
        "colab": {}
      },
      "source": [
        "#import fuzzywuzzy as fuzz\n",
        "#similarity_score = []\n",
        "#similarity_score_wo_ordering = []\n",
        "#simialrity_just_matching_tokens = []\n",
        "import nltk\n",
        "dist_closeness = []\n",
        "blue = []\n",
        "for i in range(0, len(pred_form)):\n",
        "#  similarity_score.append(fuzz.partial_ratio(formulas[i], pred_form[i]))\n",
        "#  similarity_score_wo_ordering.append(fuzz.token_sort_ratio(formulas[i], pred_form[i]))\n",
        "#  similarity_just_matching_tokens.append(fuzz.token_set_ratio(formulas[i], pred_form[i]))\n",
        "  dist_closeness.append(nltk.edit_distance(pred_form[i], formulas[i]))\n",
        "  BLEUscore = nltk.translate.bleu_score.sentence_bleu([formulas[i]], pred_form[i])\n",
        "  blue.append(BLEUscore)"
      ],
      "execution_count": 0,
      "outputs": []
    },
    {
      "cell_type": "code",
      "metadata": {
        "id": "WTp1DNc0uMLz",
        "colab_type": "code",
        "outputId": "0ee8fc6e-94ff-4c45-ae37-7861385e2c87",
        "colab": {
          "base_uri": "https://localhost:8080/",
          "height": 51
        }
      },
      "source": [
        "print(\"Average Distance between the formulas on embedding: {}\".format(np.average(dist_closeness)))\n",
        "print(\"Average Similarity of Formulas: {}\".format(np.average(blue)))"
      ],
      "execution_count": 0,
      "outputs": [
        {
          "output_type": "stream",
          "text": [
            "Average Distance between the formulas on embedding: 60.05781990521327\n",
            "Average Similarity of Formulas: 0.036273865210252235\n"
          ],
          "name": "stdout"
        }
      ]
    },
    {
      "cell_type": "markdown",
      "metadata": {
        "id": "Mxp457kKwgfg",
        "colab_type": "text"
      },
      "source": [
        "Some easy pics for visualization"
      ]
    },
    {
      "cell_type": "code",
      "metadata": {
        "id": "PsTY7ReoweqR",
        "colab_type": "code",
        "outputId": "b7d7c709-b53c-4dae-e1d6-b1b698f60fee",
        "colab": {
          "base_uri": "https://localhost:8080/",
          "height": 238
        }
      },
      "source": [
        "check_dir = \"/content/drive/My Drive/ECE1512_project/hand_written/eqn/easy_visualization\"\n",
        "images = os.listdir(check_dir)\n",
        "check_formulas = ['x + y', 'q times p', '7 times 7', 'A times A', 'x neq y', 'sum 1 = infty' , 'y gt x', 'p = sum p', '+ C . C' , 'phi in S ', 'sigma in G', 'H in P', 'sigma in X']\n",
        "images"
      ],
      "execution_count": 0,
      "outputs": [
        {
          "output_type": "execute_result",
          "data": {
            "text/plain": [
              "['rit_4265_1.png',\n",
              " '103_em_19.png',\n",
              " 'UN_465_em_969.png',\n",
              " 'UN_123_em_513.png',\n",
              " 'UN_462_em_895.png',\n",
              " 'UN_465_em_973.png',\n",
              " 'UN_453_em_651.png',\n",
              " 'UN_130_em_1069.png',\n",
              " 'UN_102_em_30.png',\n",
              " '9_em_76.png',\n",
              " '8_em_62.png',\n",
              " '9_em_77.png',\n",
              " '10_em_87.png']"
            ]
          },
          "metadata": {
            "tags": []
          },
          "execution_count": 14
        }
      ]
    },
    {
      "cell_type": "code",
      "metadata": {
        "id": "gcuiltlBy4T8",
        "colab_type": "code",
        "outputId": "99906a2a-1357-4cc8-f4c0-0bd0e0222c54",
        "colab": {
          "base_uri": "https://localhost:8080/",
          "height": 1000
        }
      },
      "source": [
        "chck_pred_form = []\n",
        "\n",
        "for i in range(0, len(images)):\n",
        "  img = cv.imread(os.path.join(check_dir, images[i]))\n",
        "  x, y, w, h = bb_pred(os.path.join(check_dir, images[i]))\n",
        "  pred_len = len(x)\n",
        "  pred = []\n",
        "  cv2_imshow(img) \n",
        "  for j in range(0, len(x)):\n",
        "    segment = img[y[j]:(y[j]+h[j]), x[j]:(x[j]+w[j])]\n",
        "    #print(np.shape(segment))\n",
        "    segment = centeread_reshaped(segment)\n",
        "    #cv2_imshow(segment)\n",
        "    pred.append(pred_cls(segment))\n",
        "  chck_pred_form.append(\"\".join(pred))\n",
        "  print('Predicted Fromula: ' + \" \".join(pred))\n",
        "  print('Actual Formula: ' + check_formulas[i]+ '\\n')\n",
        "\n"
      ],
      "execution_count": 0,
      "outputs": [
        {
          "output_type": "display_data",
          "data": {
            "image/png": "[encoded data removed]",
            "text/plain": [
              "<PIL.Image.Image image mode=RGB size=256x256 at 0x7FC890647E48>"
            ]
          },
          "metadata": {
            "tags": []
          }
        },
        {
          "output_type": "stream",
          "text": [
            "Predicted Fromula: tan + pi lim\n",
            "Actual Formula: phi ^ 3 + 3 phi ^ 2 + 18 phi + 5 + 12\n",
            "\n"
          ],
          "name": "stdout"
        },
        {
          "output_type": "display_data",
          "data": {
            "image/png": "[encoded data removed]",
            "text/plain": [
              "<PIL.Image.Image image mode=RGB size=256x256 at 0x7FC890621978>"
            ]
          },
          "metadata": {
            "tags": []
          }
        },
        {
          "output_type": "stream",
          "text": [
            "Predicted Fromula: X M j\n",
            "Actual Formula: x ^ { \\pm j } = \\frac { 1 } { \\sqrt{ 2 } } (x ^ { 2 j + 2 } \\pm j x ^ { 2 j + 3 } )\n",
            "\n"
          ],
          "name": "stdout"
        },
        {
          "output_type": "display_data",
          "data": {
            "image/png": "[encoded data removed]",
            "text/plain": [
              "<PIL.Image.Image image mode=RGB size=256x256 at 0x7FC890621A20>"
            ]
          },
          "metadata": {
            "tags": []
          }
        },
        {
          "output_type": "stream",
          "text": [
            "Predicted Fromula: pi lim + p\n",
            "Actual Formula: \\sqrt { 2 n _ k + 1 }\n",
            "\n"
          ],
          "name": "stdout"
        },
        {
          "output_type": "display_data",
          "data": {
            "image/png": "[encoded data removed]",
            "text/plain": [
              "<PIL.Image.Image image mode=RGB size=256x256 at 0x7FC890621B70>"
            ]
          },
          "metadata": {
            "tags": []
          }
        },
        {
          "output_type": "stream",
          "text": [
            "Predicted Fromula: cos sum 3 pi M sin log pi N\n",
            "Actual Formula: 2 [ y ] = 3 [ x ] = [ t ]\n",
            "\n"
          ],
          "name": "stdout"
        },
        {
          "output_type": "display_data",
          "data": {
            "image/png": "[encoded data removed]",
            "text/plain": [
              "<PIL.Image.Image image mode=RGB size=256x256 at 0x7FC890621278>"
            ]
          },
          "metadata": {
            "tags": []
          }
        },
        {
          "output_type": "stream",
          "text": [
            "Predicted Fromula: f log tan lim A d q tan j theta\n",
            "Actual Formula: f = \\frac { a ^ 2 R ^ 2 sin \\theta } { \\sqrt{ 1 - A R ^ 2 } }\n",
            "\n"
          ],
          "name": "stdout"
        }
      ]
    },
    {
      "cell_type": "code",
      "metadata": {
        "id": "CmpZzvlmbo_j",
        "colab_type": "code",
        "outputId": "9b918254-e1b9-4a7c-fed4-1191adb4065b",
        "colab": {
          "base_uri": "https://localhost:8080/",
          "height": 102
        }
      },
      "source": [
        "check_dir = \"/content/drive/My Drive/ECE1512_project/hand_written/eqn/difficult\"\n",
        "images = os.listdir(check_dir)\n",
        "check_formulas = ['phi ^ 3 + 3 phi ^ 2 + 18 phi + 5 + 12', 'x ^ { \\pm j } = \\\\frac { 1 } { \\sqrt{ 2 } } (x ^ { 2 j + 2 } \\pm j x ^ { 2 j + 3 } )', '\\sqrt { 2 n _ k + 1 }', '2 [ y ] = 3 [ x ] = [ t ]', 'f = \\\\frac { a ^ 2 R ^ 2 sin \\\\theta } { \\sqrt{ 1 - A R ^ 2 } }']\n",
        "images"
      ],
      "execution_count": 0,
      "outputs": [
        {
          "output_type": "execute_result",
          "data": {
            "text/plain": [
              "['rit_42190_2.png',\n",
              " 'UN_102_em_43.png',\n",
              " 'UN_105_em_111.png',\n",
              " 'UN_459_em_815.png',\n",
              " 'UN_118_em_392.png']"
            ]
          },
          "metadata": {
            "tags": []
          },
          "execution_count": 32
        }
      ]
    },
    {
      "cell_type": "code",
      "metadata": {
        "id": "fhVY_DUMbqLh",
        "colab_type": "code",
        "outputId": "e7b5ee62-bca7-4dba-96c6-e925813856b4",
        "colab": {
          "base_uri": "https://localhost:8080/",
          "height": 1000
        }
      },
      "source": [
        "chck_pred_form = []\n",
        "\n",
        "for i in range(0, len(images)):\n",
        "  img = cv.imread(os.path.join(check_dir, images[i]))\n",
        "  x, y, w, h = bb_pred(os.path.join(check_dir, images[i]), k_dil = 3)\n",
        "  pred_len = len(x)\n",
        "  pred = []\n",
        "  cv2_imshow(img) \n",
        "  for j in range(0, len(x)):\n",
        "    segment = img[y[j]:(y[j]+h[j]), x[j]:(x[j]+w[j])]\n",
        "    #print(np.shape(segment))\n",
        "    segment = centeread_reshaped(segment)\n",
        "    #cv2_imshow(segment)\n",
        "    pred.append(pred_cls(segment))\n",
        "  chck_pred_form.append(\"\".join(pred))\n",
        "  print('Predicted Fromula: ' + \" \".join(pred))\n",
        "  print('Actual Formula: ' + check_formulas[i]+ '\\n')"
      ],
      "execution_count": 0,
      "outputs": [
        {
          "output_type": "display_data",
          "data": {
            "image/png": "[encoded data removed]",
            "text/plain": [
              "<PIL.Image.Image image mode=RGB size=256x256 at 0x7FC8905B48D0>"
            ]
          },
          "metadata": {
            "tags": []
          }
        },
        {
          "output_type": "stream",
          "text": [
            "Predicted Fromula: phi + X 4 X d + X + p R\n",
            "Actual Formula: phi ^ 3 + 3 phi ^ 2 + 18 phi + 5 + 12\n",
            "\n"
          ],
          "name": "stdout"
        },
        {
          "output_type": "display_data",
          "data": {
            "image/png": "[encoded data removed]",
            "text/plain": [
              "<PIL.Image.Image image mode=RGB size=256x256 at 0x7FC8905B4B38>"
            ]
          },
          "metadata": {
            "tags": []
          }
        },
        {
          "output_type": "stream",
          "text": [
            "Predicted Fromula: X = tan z - pm X j y\n",
            "Actual Formula: x ^ { \\pm j } = \\frac { 1 } { \\sqrt{ 2 } } (x ^ { 2 j + 2 } \\pm j x ^ { 2 j + 3 } )\n",
            "\n"
          ],
          "name": "stdout"
        },
        {
          "output_type": "display_data",
          "data": {
            "image/png": "[encoded data removed]",
            "text/plain": [
              "<PIL.Image.Image image mode=RGB size=256x256 at 0x7FC8905B4D30>"
            ]
          },
          "metadata": {
            "tags": []
          }
        },
        {
          "output_type": "stream",
          "text": [
            "Predicted Fromula: pi lim k + 6\n",
            "Actual Formula: \\sqrt { 2 n _ k + 1 }\n",
            "\n"
          ],
          "name": "stdout"
        },
        {
          "output_type": "display_data",
          "data": {
            "image/png": "[encoded data removed]",
            "text/plain": [
              "<PIL.Image.Image image mode=RGB size=256x256 at 0x7FC8905B4CC0>"
            ]
          },
          "metadata": {
            "tags": []
          }
        },
        {
          "output_type": "stream",
          "text": [
            "Predicted Fromula: 4 X log phi 3 pi M A log C 1 1\n",
            "Actual Formula: 2 [ y ] = 3 [ x ] = [ t ]\n",
            "\n"
          ],
          "name": "stdout"
        },
        {
          "output_type": "display_data",
          "data": {
            "image/png": "[encoded data removed]",
            "text/plain": [
              "<PIL.Image.Image image mode=RGB size=256x256 at 0x7FC890611128>"
            ]
          },
          "metadata": {
            "tags": []
          }
        },
        {
          "output_type": "stream",
          "text": [
            "Predicted Fromula: f log tan tan lim A d 2 pi log G phi j N theta\n",
            "Actual Formula: f = \\frac { a ^ 2 R ^ 2 sin \\theta } { \\sqrt{ 1 - A R ^ 2 } }\n",
            "\n"
          ],
          "name": "stdout"
        }
      ]
    },
    {
      "cell_type": "code",
      "metadata": {
        "id": "XOJNkc8ezaJQ",
        "colab_type": "code",
        "outputId": "c854e6dc-cae8-4795-b569-6f0697c5c7e2",
        "colab": {
          "base_uri": "https://localhost:8080/",
          "height": 353
        }
      },
      "source": [
        "check_dir = \"/content/drive/My Drive/ECE1512_project/hand_written/eqn/real_images\"\n",
        "real_images = os.listdir(check_dir)\n",
        "img = cv.imread(os.path.join(check_dir, real_images[0]))\n",
        "img = cv.resize(img, (100, 100))\n",
        "cv2_imshow(img)\n",
        "bb_pred(os.path.join(check_dir, images[i]), Vis = True)\n",
        "#Need to adjust the bb function for the real pic"
      ],
      "execution_count": 0,
      "outputs": [
        {
          "output_type": "display_data",
          "data": {
            "image/png": "[encoded data removed]",
            "text/plain": [
              "<PIL.Image.Image image mode=RGB size=100x100 at 0x7F2479D7A5C0>"
            ]
          },
          "metadata": {
            "tags": []
          }
        },
        {
          "output_type": "display_data",
          "data": {
            "image/png": "[encoded data removed]",
            "text/plain": [
              "<PIL.Image.Image image mode=RGB size=100x100 at 0x7F2479D7AF28>"
            ]
          },
          "metadata": {
            "tags": []
          }
        },
        {
          "output_type": "execute_result",
          "data": {
            "text/plain": [
              "(array([ 3,  4,  8,  9, 20, 23, 25, 33, 35, 35, 35, 37, 41, 60, 64, 69, 76,\n",
              "        84, 88, 90, 92, 94, 95, 95]),\n",
              " array([45, 67, 35, 22, 88, 12,  1, 70, 36, 97, 84, 33, 26, 81, 92, 39, 18,\n",
              "         0, 66, 12, 85, 77, 70, 57]),\n",
              " array([ 5, 12,  6, 24,  5,  5,  7,  6,  7,  5,  5, 28,  5,  5,  5, 19,  5,\n",
              "        10,  5,  5,  5,  5,  5,  5]),\n",
              " array([ 5, 11,  6, 43,  6,  7,  7,  8,  7,  3,  5, 43,  5,  5,  6, 38,  6,\n",
              "         6,  5,  5,  5,  7,  5,  8]))"
            ]
          },
          "metadata": {
            "tags": []
          },
          "execution_count": 170
        }
      ]
    },
    {
      "cell_type": "code",
      "metadata": {
        "id": "c2Vl4MC18jJ4",
        "colab_type": "code",
        "outputId": "54656152-74ae-4ae9-9035-517d44d409cd",
        "colab": {
          "base_uri": "https://localhost:8080/",
          "height": 1000
        }
      },
      "source": [
        "idx = 293\n",
        "img = cv.imread(file_name[idx])\n",
        "x, y, w, h = bb_pred(file_name[idx], Vis = True)\n",
        "pred_len = len(x)\n",
        "#cv2_imshow(img) \n",
        "for i in range(0, len(x)):\n",
        "  segment = img[y[i]:(y[i]+h[i]), x[i]:(x[i]+w[i])]\n",
        "  #cv2_imshow(segment)\n",
        "  #print(np.shape(segment))\n",
        "  segment = centeread_reshaped(segment, Vis = True)\n"
      ],
      "execution_count": 0,
      "outputs": [
        {
          "output_type": "display_data",
          "data": {
            "image/png": "[encoded data removed]",
            "text/plain": [
              "<PIL.Image.Image image mode=L size=256x256 at 0x7F247853EF28>"
            ]
          },
          "metadata": {
            "tags": []
          }
        },
        {
          "output_type": "display_data",
          "data": {
            "image/png": "[encoded data removed]",
            "text/plain": [
              "<PIL.Image.Image image mode=L size=256x256 at 0x7F247853EF98>"
            ]
          },
          "metadata": {
            "tags": []
          }
        },
        {
          "output_type": "display_data",
          "data": {
            "image/png": "[encoded data removed]",
            "text/plain": [
              "<PIL.Image.Image image mode=L size=256x256 at 0x7F247853EF28>"
            ]
          },
          "metadata": {
            "tags": []
          }
        },
        {
          "output_type": "display_data",
          "data": {
            "image/png": "[encoded data removed]",
            "text/plain": [
              "<PIL.Image.Image image mode=L size=256x256 at 0x7F247853EF98>"
            ]
          },
          "metadata": {
            "tags": []
          }
        },
        {
          "output_type": "display_data",
          "data": {
            "image/png": "[encoded data removed]",
            "text/plain": [
              "<PIL.Image.Image image mode=RGB size=256x256 at 0x7F247853E240>"
            ]
          },
          "metadata": {
            "tags": []
          }
        },
        {
          "output_type": "display_data",
          "data": {
            "image/png": "[encoded data removed]",
            "text/plain": [
              "<PIL.Image.Image image mode=L size=32x32 at 0x7F247853EF60>"
            ]
          },
          "metadata": {
            "tags": []
          }
        },
        {
          "output_type": "display_data",
          "data": {
            "image/png": "[encoded data removed]",
            "text/plain": [
              "<PIL.Image.Image image mode=L size=32x32 at 0x7F247853EF28>"
            ]
          },
          "metadata": {
            "tags": []
          }
        },
        {
          "output_type": "display_data",
          "data": {
            "image/png": "[encoded data removed]",
            "text/plain": [
              "<PIL.Image.Image image mode=L size=32x32 at 0x7F247853EF60>"
            ]
          },
          "metadata": {
            "tags": []
          }
        },
        {
          "output_type": "display_data",
          "data": {
            "image/png": "[encoded data removed]",
            "text/plain": [
              "<PIL.Image.Image image mode=L size=32x32 at 0x7F247853EBE0>"
            ]
          },
          "metadata": {
            "tags": []
          }
        },
        {
          "output_type": "display_data",
          "data": {
            "image/png": "[encoded data removed]",
            "text/plain": [
              "<PIL.Image.Image image mode=L size=32x32 at 0x7F247853EF60>"
            ]
          },
          "metadata": {
            "tags": []
          }
        }
      ]
    }
  ]
}